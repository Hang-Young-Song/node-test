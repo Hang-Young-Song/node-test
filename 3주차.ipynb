{
 "cells": [
  {
   "cell_type": "code",
   "execution_count": 1,
   "metadata": {},
   "outputs": [
    {
     "name": "stdout",
     "output_type": "stream",
     "text": [
      "1\n",
      "35\n"
     ]
    }
   ],
   "source": [
    "# 백준 2609 최대공약수 최소공배수 --> 정답!!!!!!!!!!!\n",
    "\n",
    "a , b = map(int,input().split())\n",
    "ma = max([a,b])\n",
    "mi = min([a,b])\n",
    "\n",
    "# 정지조건 생각!\n",
    "def GCD(ma,mi):\n",
    "    if ma % mi == 0:\n",
    "        return mi\n",
    "\n",
    "    new_ma = mi\n",
    "    new_mi = ma % mi\n",
    "    return GCD(new_ma,new_mi)\n",
    "\n",
    "최대공약수 = GCD(ma,mi)\n",
    "최소공배수 = int(ma * mi / 최대공약수)\n",
    "\n",
    "print(최대공약수)\n",
    "print(최소공배수)"
   ]
  },
  {
   "cell_type": "code",
   "execution_count": 33,
   "metadata": {},
   "outputs": [
    {
     "name": "stdout",
     "output_type": "stream",
     "text": [
      "3\n"
     ]
    }
   ],
   "source": [
    "# 이코테 : 음료수 얼려먹기.\n",
    "# and의 위치도 중요!!!\n",
    "\n",
    "N , M = map(int,input().split())\n",
    "matrix = []\n",
    "\n",
    "for _ in range(N):\n",
    "    values = list(map(int,input().split()))\n",
    "    matrix.append(values)\n",
    "\n",
    "cnt = 0\n",
    "\n",
    "dx = [-1 , 1 , 0 , 0]\n",
    "dy = [0 , 0 , -1 , 1]\n",
    "\n",
    "def bfs(i,j):\n",
    "    matrix[i][j] = 2\n",
    "    for k in range(4):\n",
    "        ni = i + dx[k]\n",
    "        nj = j + dy[k]\n",
    "        if 0 <= ni < N and  0 <= nj < M and matrix[ni][nj] == 0 :\n",
    "            matrix[ni][nj] = 2\n",
    "            bfs(ni,nj)\n",
    "\n",
    "\n",
    "for i in range(N):\n",
    "    for j in range(M):\n",
    "        if matrix[i][j] == 0:\n",
    "            bfs(i,j)\n",
    "            cnt += 1\n",
    "\n",
    "\n",
    "print(cnt)\n",
    "\n"
   ]
  },
  {
   "cell_type": "code",
   "execution_count": null,
   "metadata": {},
   "outputs": [],
   "source": [
    "# 이코테 : 미로 탈출.\n"
   ]
  }
 ],
 "metadata": {
  "kernelspec": {
   "display_name": "visualization",
   "language": "python",
   "name": "python3"
  },
  "language_info": {
   "codemirror_mode": {
    "name": "ipython",
    "version": 3
   },
   "file_extension": ".py",
   "mimetype": "text/x-python",
   "name": "python",
   "nbconvert_exporter": "python",
   "pygments_lexer": "ipython3",
   "version": "3.10.12"
  }
 },
 "nbformat": 4,
 "nbformat_minor": 2
}
